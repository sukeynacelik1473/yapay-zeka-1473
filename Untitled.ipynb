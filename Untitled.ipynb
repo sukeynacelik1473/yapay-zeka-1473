{
 "cells": [
  {
   "cell_type": "code",
   "execution_count": 12,
   "id": "21785582-7e8a-43e8-865f-acf6f788481b",
   "metadata": {},
   "outputs": [],
   "source": [
    "import numpy as np"
   ]
  },
  {
   "cell_type": "code",
   "execution_count": 4,
   "id": "c2df2ceb-a806-44a9-83f4-b6a99225674a",
   "metadata": {},
   "outputs": [
    {
     "data": {
      "text/plain": [
       "array([[5, 5, 5],\n",
       "       [5, 5, 5],\n",
       "       [5, 5, 5],\n",
       "       [5, 5, 5]])"
      ]
     },
     "execution_count": 4,
     "metadata": {},
     "output_type": "execute_result"
    }
   ],
   "source": [
    "dizi=np.full((4,3),5)\n",
    "dizi"
   ]
  },
  {
   "cell_type": "code",
   "execution_count": 6,
   "id": "834c8d32-42b1-4fc2-8d5b-1e6325809b36",
   "metadata": {},
   "outputs": [
    {
     "data": {
      "text/plain": [
       "array([1, 2, 3])"
      ]
     },
     "execution_count": 6,
     "metadata": {},
     "output_type": "execute_result"
    }
   ],
   "source": [
    "np.array([1,2,3])"
   ]
  },
  {
   "cell_type": "code",
   "execution_count": 8,
   "id": "1ac408f4-ebe4-4d1b-b9b8-ea976a8aaf01",
   "metadata": {},
   "outputs": [
    {
     "data": {
      "text/plain": [
       "array(['emla', 'erik', 'iğde'], dtype='<U4')"
      ]
     },
     "execution_count": 8,
     "metadata": {},
     "output_type": "execute_result"
    }
   ],
   "source": [
    "dizi=np.array([\"emla\",\"erik\",\"iğde\"])\n",
    "dizi"
   ]
  },
  {
   "cell_type": "code",
   "execution_count": 9,
   "id": "79bac84a-b4b5-4e37-9297-85ee9545641c",
   "metadata": {},
   "outputs": [
    {
     "data": {
      "text/plain": [
       "array(['emla', 'erik', 'iğde'], dtype='<U4')"
      ]
     },
     "execution_count": 9,
     "metadata": {},
     "output_type": "execute_result"
    }
   ],
   "source": [
    "dizi"
   ]
  },
  {
   "cell_type": "code",
   "execution_count": null,
   "id": "17024479-bae8-4c60-8817-83048ed1814f",
   "metadata": {},
   "outputs": [],
   "source": [
    "array([1.  ,2.  ,3.14])"
   ]
  },
  {
   "cell_type": "code",
   "execution_count": null,
   "id": "1e41cce6-15f4-4b50-8f9a-6ec2a56722bd",
   "metadata": {},
   "outputs": [],
   "source": [
    "dizi=np.array([1,2,3])"
   ]
  },
  {
   "cell_type": "code",
   "execution_count": null,
   "id": "2274e230-967e-4e1c-b767-05e00889935c",
   "metadata": {},
   "outputs": [],
   "source": [
    "dizi=np.array([1,2,3,14])"
   ]
  },
  {
   "cell_type": "code",
   "execution_count": 10,
   "id": "5e1fc276-69c8-4548-a87b-aa19d7fb1ab5",
   "metadata": {},
   "outputs": [
    {
     "data": {
      "text/plain": [
       "dtype('<U4')"
      ]
     },
     "execution_count": 10,
     "metadata": {},
     "output_type": "execute_result"
    }
   ],
   "source": [
    "dizi.dtype"
   ]
  },
  {
   "cell_type": "code",
   "execution_count": null,
   "id": "a2043573-c23a-4e44-a5a8-031310893e7d",
   "metadata": {},
   "outputs": [],
   "source": [
    "dizi=np.array([1,2,3,14],dtype=int"
   ]
  },
  {
   "cell_type": "code",
   "execution_count": 14,
   "id": "febcb128-5dc8-4fbc-b0fc-ba11f1553844",
   "metadata": {},
   "outputs": [
    {
     "data": {
      "text/plain": [
       "array([1, 2, 3, 4])"
      ]
     },
     "execution_count": 14,
     "metadata": {},
     "output_type": "execute_result"
    }
   ],
   "source": [
    "birboyut=np.array([1,2,3,4])\n",
    "\n",
    "ikiboyut=np.array([[1,2,3,4],[5,6,7,8],[9,10,11,12]])\n",
    "birboyut"
   ]
  },
  {
   "cell_type": "code",
   "execution_count": 15,
   "id": "083b9d94-47d4-4e26-9d64-634e40af9260",
   "metadata": {},
   "outputs": [
    {
     "data": {
      "text/plain": [
       "array([[ 1,  2,  3,  4],\n",
       "       [ 5,  6,  7,  8],\n",
       "       [ 9, 10, 11, 12]])"
      ]
     },
     "execution_count": 15,
     "metadata": {},
     "output_type": "execute_result"
    }
   ],
   "source": [
    "ikiboyut"
   ]
  },
  {
   "cell_type": "code",
   "execution_count": 16,
   "id": "2d2a3792-c402-4903-83f6-6a30f036ced0",
   "metadata": {},
   "outputs": [
    {
     "data": {
      "text/plain": [
       "array([0., 0., 0., 0., 0., 0., 0.])"
      ]
     },
     "execution_count": 16,
     "metadata": {},
     "output_type": "execute_result"
    }
   ],
   "source": [
    "np.zeros(7)"
   ]
  },
  {
   "cell_type": "code",
   "execution_count": 18,
   "id": "92726598-fa32-462f-8311-f2fbf5fe1b86",
   "metadata": {},
   "outputs": [
    {
     "data": {
      "text/plain": [
       "array([[0, 0, 0],\n",
       "       [0, 0, 0]])"
      ]
     },
     "execution_count": 18,
     "metadata": {},
     "output_type": "execute_result"
    }
   ],
   "source": [
    "np.zeros((2,3),dtype=int)\n"
   ]
  },
  {
   "cell_type": "code",
   "execution_count": 19,
   "id": "e4ac60ce-8be3-44fa-888b-03105da79352",
   "metadata": {},
   "outputs": [
    {
     "data": {
      "text/plain": [
       "array([1., 1., 1.])"
      ]
     },
     "execution_count": 19,
     "metadata": {},
     "output_type": "execute_result"
    }
   ],
   "source": [
    "\n",
    "np.ones(3)\n",
    "\n"
   ]
  },
  {
   "cell_type": "code",
   "execution_count": 20,
   "id": "7118967c-908b-4990-9b37-2c25aac860ae",
   "metadata": {},
   "outputs": [
    {
     "data": {
      "text/plain": [
       "array([[5, 5, 5],\n",
       "       [5, 5, 5],\n",
       "       [5, 5, 5],\n",
       "       [5, 5, 5]])"
      ]
     },
     "execution_count": 20,
     "metadata": {},
     "output_type": "execute_result"
    }
   ],
   "source": [
    "np.full((4,3),5)"
   ]
  },
  {
   "cell_type": "code",
   "execution_count": 21,
   "id": "05081f94-bf5e-4093-b95a-c1a3b78c6e9f",
   "metadata": {},
   "outputs": [
    {
     "data": {
      "text/plain": [
       "array([ 2,  7, 12, 17])"
      ]
     },
     "execution_count": 21,
     "metadata": {},
     "output_type": "execute_result"
    }
   ],
   "source": [
    "np.arange(2,22,5)"
   ]
  },
  {
   "cell_type": "code",
   "execution_count": 22,
   "id": "cfa1952b-ba26-4524-adbb-7c2922829e39",
   "metadata": {},
   "outputs": [
    {
     "data": {
      "text/plain": [
       "array([ 2.        ,  3.33333333,  4.66666667,  6.        ,  7.33333333,\n",
       "        8.66666667, 10.        ])"
      ]
     },
     "execution_count": 22,
     "metadata": {},
     "output_type": "execute_result"
    }
   ],
   "source": [
    "np.linspace(2,10,num=7)"
   ]
  },
  {
   "cell_type": "code",
   "execution_count": 23,
   "id": "15787de9-d340-4834-97a3-e49e6c8eeb1e",
   "metadata": {},
   "outputs": [
    {
     "data": {
      "text/plain": [
       "array([[0, 2],\n",
       "       [1, 9],\n",
       "       [8, 3],\n",
       "       [6, 4],\n",
       "       [9, 5]])"
      ]
     },
     "execution_count": 23,
     "metadata": {},
     "output_type": "execute_result"
    }
   ],
   "source": [
    "np.random.randint(0,10,(5,2))"
   ]
  },
  {
   "cell_type": "code",
   "execution_count": 24,
   "id": "dacb4e33-1be4-4e06-9c4c-6c7513dfbc07",
   "metadata": {},
   "outputs": [
    {
     "data": {
      "text/plain": [
       "array([7, 8, 3, 3, 3])"
      ]
     },
     "execution_count": 24,
     "metadata": {},
     "output_type": "execute_result"
    }
   ],
   "source": [
    "np.random.randint(0,10,5)"
   ]
  },
  {
   "cell_type": "code",
   "execution_count": 25,
   "id": "e13440fd-4fb2-4f43-a940-e9968a8d8f1c",
   "metadata": {},
   "outputs": [
    {
     "data": {
      "text/plain": [
       "(3, 4)"
      ]
     },
     "execution_count": 25,
     "metadata": {},
     "output_type": "execute_result"
    }
   ],
   "source": [
    "dizi=np.array([[1,2,3,4],[5,6,7,8],[9,10,11,12]])\n",
    "dizi.shape"
   ]
  },
  {
   "cell_type": "code",
   "execution_count": 26,
   "id": "3c0bf618-6cf1-44f2-95b6-99454698d418",
   "metadata": {},
   "outputs": [
    {
     "data": {
      "text/plain": [
       "2"
      ]
     },
     "execution_count": 26,
     "metadata": {},
     "output_type": "execute_result"
    }
   ],
   "source": [
    "dizi.ndim"
   ]
  },
  {
   "cell_type": "code",
   "execution_count": 27,
   "id": "546ef081-e35f-4468-a461-6088f9b1bc1a",
   "metadata": {},
   "outputs": [
    {
     "data": {
      "text/plain": [
       "12"
      ]
     },
     "execution_count": 27,
     "metadata": {},
     "output_type": "execute_result"
    }
   ],
   "source": [
    "\n",
    "dizi.size"
   ]
  },
  {
   "cell_type": "code",
   "execution_count": null,
   "id": "3c2382eb-b391-41a4-af57-619ee5b8420f",
   "metadata": {},
   "outputs": [],
   "source": []
  }
 ],
 "metadata": {
  "kernelspec": {
   "display_name": "Python 3 (ipykernel)",
   "language": "python",
   "name": "python3"
  },
  "language_info": {
   "codemirror_mode": {
    "name": "ipython",
    "version": 3
   },
   "file_extension": ".py",
   "mimetype": "text/x-python",
   "name": "python",
   "nbconvert_exporter": "python",
   "pygments_lexer": "ipython3",
   "version": "3.11.7"
  }
 },
 "nbformat": 4,
 "nbformat_minor": 5
}
