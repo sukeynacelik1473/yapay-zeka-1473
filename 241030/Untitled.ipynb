{
 "cells": [
  {
   "cell_type": "code",
   "execution_count": 9,
   "id": "b7a6418b-a962-4a02-953b-808f1e71388e",
   "metadata": {},
   "outputs": [],
   "source": [
    "import numpy as np\n",
    "import pandas as pd"
   ]
  },
  {
   "cell_type": "code",
   "execution_count": 10,
   "id": "bd0d24d3-f790-4209-b786-2d8ae8b049ba",
   "metadata": {},
   "outputs": [],
   "source": [
    "# Çalışanlar veri seti\n",
    "emp = pd.DataFrame({\n",
    "    'Employee ID': [1, 2, 3, 4, 5],\n",
    "    'Name': ['Alice', 'Bob', 'Charlie', 'David', 'Eve'],\n",
    "    'Department ID': [101, 102, 101, 103, 102],\n",
    "    'Salary (USD)': [60000, 50000, 70000, 48000, 52000]\n",
    "})"
   ]
  },
  {
   "cell_type": "code",
   "execution_count": 11,
   "id": "81b67ff2-4d7a-4dae-8371-00b6e39b970c",
   "metadata": {},
   "outputs": [],
   "source": [
    "#Departmanlar veri seti\n",
    "dep = pd.DataFrame({\n",
    "    'Department ID': [101, 102, 103],\n",
    "    'Department Name': ['Marketing', 'Sales', 'HR'],\n",
    "    'Location': ['New York', 'Los Angeles', 'Chicago']\n",
    "})"
   ]
  },
  {
   "cell_type": "code",
   "execution_count": null,
   "id": "79bf88a6-2288-42eb-8e38-7950c69cae99",
   "metadata": {},
   "outputs": [],
   "source": []
  },
  {
   "cell_type": "code",
   "execution_count": null,
   "id": "9c039bc9-1a40-48e7-b0d1-8610f78d3a2d",
   "metadata": {},
   "outputs": [],
   "source": []
  },
  {
   "cell_type": "code",
   "execution_count": null,
   "id": "4b480418-a9ca-4766-9a7f-b5b266263a8b",
   "metadata": {},
   "outputs": [],
   "source": []
  }
 ],
 "metadata": {
  "kernelspec": {
   "display_name": "Python 3 (ipykernel)",
   "language": "python",
   "name": "python3"
  },
  "language_info": {
   "codemirror_mode": {
    "name": "ipython",
    "version": 3
   },
   "file_extension": ".py",
   "mimetype": "text/x-python",
   "name": "python",
   "nbconvert_exporter": "python",
   "pygments_lexer": "ipython3",
   "version": "3.11.7"
  }
 },
 "nbformat": 4,
 "nbformat_minor": 5
}
